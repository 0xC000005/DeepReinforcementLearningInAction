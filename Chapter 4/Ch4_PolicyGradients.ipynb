{
 "cells": [
  {
   "cell_type": "markdown",
   "metadata": {},
   "source": [
    "# Deep Reinforcement Learning <em> in Action </em> \n",
    "## Ch. 4 - Policy Gradients"
   ]
  },
  {
   "cell_type": "code",
   "execution_count": 1,
   "metadata": {},
   "outputs": [],
   "source": [
    "import gym\n",
    "import numpy as np\n",
    "import torch\n",
    "from matplotlib import pylab as plt"
   ]
  },
  {
   "cell_type": "markdown",
   "metadata": {},
   "source": [
    "#### Helper functions"
   ]
  },
  {
   "cell_type": "code",
   "execution_count": 2,
   "metadata": {},
   "outputs": [],
   "source": [
    "def running_mean(x, N=50):\n",
    "    cumsum = np.cumsum(np.insert(x, 0, 0)) \n",
    "    return (cumsum[N:] - cumsum[:-N]) / float(N)"
   ]
  },
  {
   "cell_type": "code",
   "execution_count": 5,
   "metadata": {},
   "outputs": [],
   "source": [
    "l1 = 4\n",
    "l2 = 150\n",
    "l3 = 2\n",
    "\n",
    "model = torch.nn.Sequential(\n",
    "    torch.nn.Linear(l1, l2),\n",
    "    torch.nn.LeakyReLU(),\n",
    "    torch.nn.Linear(l2, l3),\n",
    "    torch.nn.Softmax()\n",
    ")\n",
    "\n",
    "def loss_fn(preds, r): \n",
    "    #pred is output from neural network, a is action index\n",
    "    #r is return (sum of rewards to end of episode), d is discount factor\n",
    "    return -torch.sum(r * torch.log(preds)) #element-wise multipliy, then sum\n",
    "\n",
    "learning_rate = 0.0009\n",
    "optimizer = torch.optim.Adam(model.parameters(), lr=learning_rate)"
   ]
  },
  {
   "cell_type": "code",
   "execution_count": 6,
   "metadata": {
    "scrolled": true
   },
   "outputs": [
    {
     "name": "stdout",
     "output_type": "stream",
     "text": [
      "\u001b[33mWARN: gym.spaces.Box autodetected dtype as <class 'numpy.float32'>. Please provide explicit dtype.\u001b[0m\n"
     ]
    },
    {
     "name": "stderr",
     "output_type": "stream",
     "text": [
      "/Users/alexzai/anaconda3/lib/python3.6/site-packages/torch/nn/modules/container.py:91: UserWarning: Implicit dimension choice for softmax has been deprecated. Change the call to include dim=X as an argument.\n",
      "  input = module(input)\n"
     ]
    }
   ],
   "source": [
    "env = gym.make('CartPole-v0')\n",
    "MAX_DUR = 200\n",
    "MAX_EPISODES = 500\n",
    "gamma_ = 0.99\n",
    "time_steps = []\n",
    "for episode in range(MAX_EPISODES):\n",
    "    curr_state = env.reset()\n",
    "    done = False\n",
    "    transitions = [] # list of state, action, rewards\n",
    "    \n",
    "    for t in range(MAX_DUR): #while in episode\n",
    "        act_prob = model(torch.from_numpy(curr_state).float())\n",
    "        action = np.random.choice(np.array([0,1]), p=act_prob.data.numpy())\n",
    "        prev_state = curr_state\n",
    "        curr_state, reward, done, info = env.step(action)\n",
    "        transitions.append((prev_state, action, reward))\n",
    "        if done:\n",
    "            break\n",
    "\n",
    "    # Optimize policy network with full episode\n",
    "    ep_len = len(transitions) # episode length\n",
    "    time_steps.append(ep_len)\n",
    "    preds = torch.zeros(ep_len)\n",
    "    discounted_rewards = torch.zeros(ep_len)\n",
    "    for i in range(ep_len): #for each step in episode\n",
    "        discount = 1\n",
    "        future_reward = 0\n",
    "        # discount rewards\n",
    "        for i2 in range(i, ep_len):\n",
    "            future_reward += transitions[i2][2] * discount\n",
    "            discount = discount * gamma_\n",
    "        discounted_rewards[i] = future_reward\n",
    "        state, action, _ = transitions[i]\n",
    "        pred = model(torch.from_numpy(state).float())\n",
    "        preds[i] = pred[action]\n",
    "    loss = loss_fn(preds, discounted_rewards)\n",
    "    optimizer.zero_grad()\n",
    "    loss.backward()\n",
    "    optimizer.step()\n",
    "        \n",
    "env.close()"
   ]
  },
  {
   "cell_type": "code",
   "execution_count": 7,
   "metadata": {},
   "outputs": [
    {
     "data": {
      "image/png": "[encoded data removed]",
      "text/plain": [
       "<matplotlib.figure.Figure at 0x109d29860>"
      ]
     },
     "metadata": {},
     "output_type": "display_data"
    }
   ],
   "source": [
    "plt.figure(figsize=(10,7))\n",
    "plt.ylabel(\"Duration\")\n",
    "plt.xlabel(\"Episode\")\n",
    "plt.plot(running_mean(time_steps, 50), color='green')\n",
    "plt.savefig(\"PG_score_plot1.pdf\", format=\"pdf\")"
   ]
  },
  {
   "cell_type": "code",
   "execution_count": 8,
   "metadata": {},
   "outputs": [],
   "source": [
    "env.close()"
   ]
  },
  {
   "cell_type": "markdown",
   "metadata": {},
   "source": [
    "## Actor-Critic"
   ]
  },
  {
   "cell_type": "code",
   "execution_count": 9,
   "metadata": {},
   "outputs": [],
   "source": [
    "l1 = 4\n",
    "l2 = 150\n",
    "l3 = 2\n",
    "\n",
    "actor_model = torch.nn.Sequential(\n",
    "    torch.nn.Linear(l1, l2),\n",
    "    torch.nn.LeakyReLU(),\n",
    "    torch.nn.Linear(l2, l3),\n",
    "    torch.nn.Softmax()\n",
    ")\n",
    "\n",
    "critic_model = torch.nn.Sequential(\n",
    "    torch.nn.Linear(l1, l2),\n",
    "    torch.nn.LeakyReLU(),\n",
    "    torch.nn.Linear(l2, 1),\n",
    "    torch.nn.LeakyReLU(),\n",
    ")\n",
    "\n",
    "lr_actor = 0.0009 #0.0009\n",
    "lr_critic = 0.001 #0.001\n",
    "optimizer_actor = torch.optim.Adam(actor_model.parameters(), lr=lr_actor)\n",
    "optimizer_critic = torch.optim.Adam(critic_model.parameters(), lr=lr_critic)"
   ]
  },
  {
   "cell_type": "code",
   "execution_count": 10,
   "metadata": {},
   "outputs": [
    {
     "name": "stdout",
     "output_type": "stream",
     "text": [
      "\u001b[33mWARN: gym.spaces.Box autodetected dtype as <class 'numpy.float32'>. Please provide explicit dtype.\u001b[0m\n"
     ]
    },
    {
     "data": {
      "text/plain": [
       "tensor(1.00000e-02 *\n",
       "       [ 2.5186])"
      ]
     },
     "execution_count": 10,
     "metadata": {},
     "output_type": "execute_result"
    }
   ],
   "source": [
    "env = gym.make('CartPole-v0')\n",
    "observation = env.reset()\n",
    "#state, reward, done, info = env.step(1)\n",
    "#observation.shape # (4,)\n",
    "critic_model(torch.from_numpy(observation).float())"
   ]
  },
  {
   "cell_type": "code",
   "execution_count": 11,
   "metadata": {},
   "outputs": [],
   "source": [
    "def loss_fn_actor(pred, delta, discount): \n",
    "    return -1 * discount * delta * torch.log(pred)\n",
    "\n",
    "loss_fn_critic = torch.nn.MSELoss()"
   ]
  },
  {
   "cell_type": "code",
   "execution_count": null,
   "metadata": {},
   "outputs": [
    {
     "name": "stdout",
     "output_type": "stream",
     "text": [
      "\u001b[33mWARN: gym.spaces.Box autodetected dtype as <class 'numpy.float32'>. Please provide explicit dtype.\u001b[0m\n"
     ]
    },
    {
     "name": "stderr",
     "output_type": "stream",
     "text": [
      "/Users/alexzai/anaconda3/lib/python3.6/site-packages/torch/nn/modules/container.py:91: UserWarning: Implicit dimension choice for softmax has been deprecated. Change the call to include dim=X as an argument.\n",
      "  input = module(input)\n"
     ]
    }
   ],
   "source": [
    "env = gym.make('CartPole-v0')\n",
    "MAX_DUR = 250\n",
    "MAX_EPISODES = 750\n",
    "gamma = 0.99\n",
    "losses_actor = []\n",
    "losses_critic = []\n",
    "time_steps = []\n",
    "for episode in range(MAX_EPISODES):\n",
    "    state1 = env.reset()\n",
    "    done = False\n",
    "    t = 0\n",
    "    discount = 1\n",
    "    while not done: #while in episode\n",
    "        state1_th = torch.from_numpy(state1).float() #convert to PyTorch tensor\n",
    "        action_pred = actor_model(state1_th)\n",
    "        action = np.random.choice(np.array([0,1]), p=action_pred.data.numpy())\n",
    "        \n",
    "        state2, reward, done, info = env.step(action) #Take action, observe new state and reward\n",
    "        psuedoreward = t/MAX_DUR if not done else -1\n",
    "        psuedoreward = torch.tensor(psuedoreward).float()\n",
    "        state2_th = torch.from_numpy(state2).float()\n",
    "        critic_pred1 = critic_model(state1_th) #State-value prediction for original state\n",
    "        critic_pred2 = critic_model(state2_th) #State-value prediction for new state\n",
    "\n",
    "        delta = psuedoreward + (gamma * reward * critic_pred2) - critic_pred1\n",
    "        delta = delta.detach() #Need to detach because we're using critic_pred2 in 2 places\n",
    "        \n",
    "        #Training\n",
    "        critic_target = psuedoreward if done else psuedoreward + gamma * critic_pred2\n",
    "        loss_actor = loss_fn_actor(action_pred[action], delta, discount)\n",
    "        loss_critic = loss_fn_critic(critic_pred1, psuedoreward)\n",
    "        losses_actor.append(loss_actor)\n",
    "        losses_critic.append(loss_critic)\n",
    "        \n",
    "        optimizer_actor.zero_grad()\n",
    "        optimizer_critic.zero_grad()\n",
    "        loss_actor.backward()\n",
    "        loss_critic.backward()\n",
    "        \n",
    "        optimizer_actor.step()\n",
    "        optimizer_critic.step()\n",
    "        \n",
    "        #End Training\n",
    "        discount = gamma * discount\n",
    "        state1 = state2\n",
    "        t += 1\n",
    "        if t > MAX_DUR:\n",
    "            break;\n",
    "    time_steps.append(t+1)\n",
    "env.close()"
   ]
  },
  {
   "cell_type": "code",
   "execution_count": null,
   "metadata": {},
   "outputs": [],
   "source": [
    "plt.figure(figsize=(10,7))\n",
    "plt.ylabel(\"Duration\")\n",
    "plt.xlabel(\"Episode\")\n",
    "plt.plot(running_mean(time_steps, 50), color='green')\n",
    "plt.savefig(\"PGac_score_plot1.pdf\", format=\"pdf\")"
   ]
  },
  {
   "cell_type": "code",
   "execution_count": null,
   "metadata": {},
   "outputs": [],
   "source": [
    "plt.close()\n",
    "plt.plot(running_mean(losses_critic, N=1000), color='orange')"
   ]
  },
  {
   "cell_type": "markdown",
   "metadata": {},
   "source": [
    "## Actor-Critic with Experience Replay"
   ]
  },
  {
   "cell_type": "code",
   "execution_count": null,
   "metadata": {},
   "outputs": [],
   "source": [
    "l1 = 4\n",
    "l2 = 150\n",
    "l3 = 2\n",
    "\n",
    "actor_model = torch.nn.Sequential(\n",
    "    torch.nn.Linear(l1, l2),\n",
    "    torch.nn.LeakyReLU(),\n",
    "    torch.nn.Linear(l2, l3),\n",
    "    torch.nn.Softmax()\n",
    ")\n",
    "\n",
    "critic_model = torch.nn.Sequential(\n",
    "    torch.nn.Linear(l1, l2),\n",
    "    torch.nn.LeakyReLU(),\n",
    "    torch.nn.Linear(l2, 1),\n",
    "    torch.nn.LeakyReLU(),\n",
    ")\n",
    "\n",
    "lr_actor = 0.0009 #0.0009\n",
    "lr_critic = 0.001 #0.001\n",
    "optimizer_actor = torch.optim.Adam(actor_model.parameters(), lr=lr_actor)\n",
    "optimizer_critic = torch.optim.Adam(critic_model.parameters(), lr=lr_critic)"
   ]
  },
  {
   "cell_type": "code",
   "execution_count": null,
   "metadata": {},
   "outputs": [],
   "source": [
    "def loss_fn_actor(pred, delta, discount): \n",
    "    return -1 * discount * delta * torch.sum(torch.log(pred))\n",
    "\n",
    "loss_fn_critic = torch.nn.MSELoss()"
   ]
  }
 ],
 "metadata": {
  "kernelspec": {
   "display_name": "Python 3",
   "language": "python",
   "name": "python3"
  },
  "language_info": {
   "codemirror_mode": {
    "name": "ipython",
    "version": 3
   },
   "file_extension": ".py",
   "mimetype": "text/x-python",
   "name": "python",
   "nbconvert_exporter": "python",
   "pygments_lexer": "ipython3",
   "version": "3.6.4"
  }
 },
 "nbformat": 4,
 "nbformat_minor": 2
}
